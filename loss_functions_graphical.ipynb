{
 "cells": [
  {
   "cell_type": "markdown",
   "metadata": {
    "collapsed": true,
    "pycharm": {
     "name": "#%% md\n"
    }
   },
   "source": [
    "# comparing loss functions\n",
    "## a graphical analysis\n",
    "> Sammer, Matthias & Leitner, Paul\n",
    "\n",
    "### Definition, explanation\n",
    "*A loss function is used to optimize the parameter values in a neural network model. \n",
    "Loss functions map a set of parameter values for the network onto a scalar value \n",
    "that indicates how well those parameter accomplish the task the network is intended to do.* \n",
    "\n",
    "Here we will graphically examine a few of the most common loss functions in more detail, \n",
    "in order to gain a more intuitive understanding of the underlying principles in Python\n",
    "\n",
    "### Preparation, packages, data generation\n",
    "\n",
    "since data wrangling is not the exact scope of this investigation, we quickly generate some data from sklearn"
   ]
  },
  {
   "cell_type": "code",
   "execution_count": 7,
   "outputs": [],
   "source": [
    "from sklearn.datasets import make_regression\n",
    "from sklearn.pipeline import Pipeline\n",
    "from sklearn.preprocessing import StandardScaler\n",
    "from sklearn.model_selection import train_test_split\n",
    "\n",
    "\n",
    "# generate a large amount of data, unscaled - 20% noise in order to challenge the model\n",
    "X, y = make_regression(n_samples=10000,\n",
    "                       n_features=10,\n",
    "                       noise=.2,\n",
    "                       random_state=1)\n",
    "\n",
    "# this data is of course unscaled --> preprocess the data\n",
    "# usually this would include imputation, EDA, encoding - out of scope here\n",
    "pipe_x = Pipeline(steps=[('scaling', StandardScaler())])\n",
    "pipe_y = Pipeline(steps=[('scaling', StandardScaler())])\n",
    "\n",
    "X_processed = pipe_x.fit_transform(X)\n",
    "y_processed = pipe_y.fit_transform(y.reshape(-1, 1))\n",
    "\n",
    "train_X, test_X, train_y, test_y = train_test_split(X_processed, y_processed, \n",
    "                                                    random_state=1,\n",
    "                                                    test_size=.1)\n"
   ],
   "metadata": {
    "collapsed": false,
    "pycharm": {
     "name": "#%%\n",
     "is_executing": false
    }
   }
  },
  {
   "cell_type": "markdown",
   "source": [
    "### model generation\n",
    "\n",
    "we quickly generate a sequential NN - as a simple demonstration for graphing the loss"
   ],
   "metadata": {
    "collapsed": false,
    "pycharm": {
     "name": "#%% md\n"
    }
   }
  },
  {
   "cell_type": "code",
   "execution_count": 11,
   "outputs": [],
   "source": [
    "from keras.models import Sequential\n",
    "from keras.layers import Dense\n",
    "from keras.optimizers import SGD\n",
    "from keras.initializers import he_uniform\n",
    "\n",
    "\n",
    "# simple sequential model, dense layer, relu activation\n",
    "sequential_model = Sequential()\n",
    "\n",
    "bias_initializer = he_uniform(seed=42)\n",
    "sequential_model.add(Dense(25, \n",
    "                           input_dim=10, \n",
    "                           activation='relu',\n",
    "                           kernel_initializer=bias_initializer))\n",
    "sequential_model.add(Dense(1, \n",
    "                           activation='linear'))\n",
    "\n",
    "# using a simple gradient descent optimizer\n",
    "opt = SGD(lr=0.01, \n",
    "          momentum=0.9)\n",
    "\n",
    "sequential_model.compile(loss='mean_squared_error', \n",
    "                         optimizer=opt)\n"
   ],
   "metadata": {
    "collapsed": false,
    "pycharm": {
     "name": "#%%\n",
     "is_executing": false
    }
   }
  },
  {
   "cell_type": "markdown",
   "source": [
    "> now that we initialized the model, we train it with history and graph the loss"
   ],
   "metadata": {
    "collapsed": false,
    "pycharm": {
     "name": "#%% md\n"
    }
   }
  },
  {
   "cell_type": "code",
   "execution_count": 12,
   "outputs": [
    {
     "name": "stdout",
     "text": [
      "Train MSE: 1.0268522585445478e-06, Test MSE: 1.0213509876848548e-06 \n",
      "\n"
     ],
     "output_type": "stream"
    },
    {
     "traceback": [
      "\u001b[0;31m---------------------------------------------------------------------------\u001b[0m",
      "\u001b[0;31mNameError\u001b[0m                                 Traceback (most recent call last)",
      "\u001b[0;32m<ipython-input-12-665ef9df8115>\u001b[0m in \u001b[0;36m<module>\u001b[0;34m\u001b[0m\n\u001b[1;32m     19\u001b[0m \u001b[0;31m# plot loss over the trainingh epochs\u001b[0m\u001b[0;34m\u001b[0m\u001b[0;34m\u001b[0m\u001b[0;34m\u001b[0m\u001b[0m\n\u001b[1;32m     20\u001b[0m \u001b[0mplt\u001b[0m\u001b[0;34m.\u001b[0m\u001b[0mtitle\u001b[0m\u001b[0;34m(\u001b[0m\u001b[0;34m'Loss / Mean Squared Error'\u001b[0m\u001b[0;34m)\u001b[0m\u001b[0;34m\u001b[0m\u001b[0;34m\u001b[0m\u001b[0m\n\u001b[0;32m---> 21\u001b[0;31m \u001b[0mplt\u001b[0m\u001b[0;34m.\u001b[0m\u001b[0mplot\u001b[0m\u001b[0;34m(\u001b[0m\u001b[0mhistory\u001b[0m\u001b[0;34m.\u001b[0m\u001b[0mhistory\u001b[0m\u001b[0;34m[\u001b[0m\u001b[0;34m'loss'\u001b[0m\u001b[0;34m]\u001b[0m\u001b[0;34m,\u001b[0m \u001b[0mlabel\u001b[0m\u001b[0;34m=\u001b[0m\u001b[0;34m'train'\u001b[0m\u001b[0;34m)\u001b[0m\u001b[0;34m\u001b[0m\u001b[0;34m\u001b[0m\u001b[0m\n\u001b[0m\u001b[1;32m     22\u001b[0m \u001b[0mplt\u001b[0m\u001b[0;34m.\u001b[0m\u001b[0mplot\u001b[0m\u001b[0;34m(\u001b[0m\u001b[0mhistory\u001b[0m\u001b[0;34m.\u001b[0m\u001b[0mhistory\u001b[0m\u001b[0;34m[\u001b[0m\u001b[0;34m'val_loss'\u001b[0m\u001b[0;34m]\u001b[0m\u001b[0;34m,\u001b[0m \u001b[0mlabel\u001b[0m\u001b[0;34m=\u001b[0m\u001b[0;34m'test'\u001b[0m\u001b[0;34m)\u001b[0m\u001b[0;34m\u001b[0m\u001b[0;34m\u001b[0m\u001b[0m\n\u001b[1;32m     23\u001b[0m \u001b[0mplt\u001b[0m\u001b[0;34m.\u001b[0m\u001b[0mlegend\u001b[0m\u001b[0;34m(\u001b[0m\u001b[0;34m)\u001b[0m\u001b[0;34m\u001b[0m\u001b[0;34m\u001b[0m\u001b[0m\n",
      "\u001b[0;31mNameError\u001b[0m: name 'history' is not defined"
     ],
     "ename": "NameError",
     "evalue": "name 'history' is not defined",
     "output_type": "error"
    },
    {
     "data": {
      "text/plain": "<Figure size 432x288 with 1 Axes>",
      "image/png": "[encoded data removed]"
     },
     "metadata": {
      "needs_background": "light"
     },
     "output_type": "display_data"
    }
   ],
   "source": [
    "import matplotlib.pyplot as plt\n",
    "\n",
    "\n",
    "# train the model on our test data in 100 epochs\n",
    "loss_history = sequential_model.fit(train_X, train_y, \n",
    "                                    validation_data=(test_X, test_y), \n",
    "                                    epochs=100, \n",
    "                                    verbose=0)\n",
    "\n",
    "# get the final train and test MSE of the model\n",
    "train_mse = sequential_model.evaluate(train_X, train_y, \n",
    "                                      verbose=0)\n",
    "\n",
    "test_mse = sequential_model.evaluate(test_X, test_y, \n",
    "                                     verbose=0)\n",
    "\n",
    "print(f'Train MSE: {train_mse}, Test MSE: {test_mse} \\n')\n",
    "\n",
    "# plot loss over the trainingh epochs\n",
    "plt.title('Loss / Mean Squared Error')\n",
    "plt.plot(history.history['loss'], label='train')\n",
    "plt.plot(history.history['val_loss'], label='test')\n",
    "plt.legend()\n",
    "plt.show()\n"
   ],
   "metadata": {
    "collapsed": false,
    "pycharm": {
     "name": "#%%\n",
     "is_executing": false
    }
   }
  },
  {
   "cell_type": "code",
   "execution_count": null,
   "outputs": [],
   "source": [
    "\n"
   ],
   "metadata": {
    "collapsed": false,
    "pycharm": {
     "name": "#%%\n"
    }
   }
  },
  {
   "cell_type": "code",
   "execution_count": null,
   "outputs": [],
   "source": [
    "\n"
   ],
   "metadata": {
    "collapsed": false,
    "pycharm": {
     "name": "#%%\n"
    }
   }
  },
  {
   "cell_type": "code",
   "execution_count": null,
   "outputs": [],
   "source": [
    "\n"
   ],
   "metadata": {
    "collapsed": false,
    "pycharm": {
     "name": "#%%\n"
    }
   }
  },
  {
   "cell_type": "code",
   "execution_count": null,
   "outputs": [],
   "source": [
    "\n"
   ],
   "metadata": {
    "collapsed": false,
    "pycharm": {
     "name": "#%%\n"
    }
   }
  },
  {
   "cell_type": "code",
   "execution_count": null,
   "outputs": [],
   "source": [
    "\n"
   ],
   "metadata": {
    "collapsed": false,
    "pycharm": {
     "name": "#%%\n"
    }
   }
  }
 ],
 "metadata": {
  "kernelspec": {
   "display_name": "Python 3",
   "language": "python",
   "name": "python3"
  },
  "language_info": {
   "codemirror_mode": {
    "name": "ipython",
    "version": 2
   },
   "file_extension": ".py",
   "mimetype": "text/x-python",
   "name": "python",
   "nbconvert_exporter": "python",
   "pygments_lexer": "ipython2",
   "version": "2.7.6"
  },
  "pycharm": {
   "stem_cell": {
    "cell_type": "raw",
    "source": [],
    "metadata": {
     "collapsed": false
    }
   }
  }
 },
 "nbformat": 4,
 "nbformat_minor": 0
}
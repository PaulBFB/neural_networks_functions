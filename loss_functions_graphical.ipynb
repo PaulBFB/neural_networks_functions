{
 "cells": [
  {
   "cell_type": "markdown",
   "metadata": {
    "collapsed": true,
    "pycharm": {
     "name": "#%% md\n"
    }
   },
   "source": [
    "# comparing loss functions\n",
    "## a graphical analysis\n",
    "> Sammer, Matthias & Leitner, Paul\n",
    "\n",
    "### Definition, explanation\n",
    "*A loss function is used to optimize the parameter values in a neural network model. \n",
    "Loss functions map a set of parameter values for the network onto a scalar value \n",
    "that indicates how well those parameter accomplish the task the network is intended to do.* \n",
    "\n",
    "Here we will graphically examine a few of the most common loss functions in more detail, \n",
    "in order to gain a more intuitive understanding of the underlying principles in Python\n",
    "\n",
    "### Preparation, packages, data generation\n",
    "\n",
    "since data wrangling is not the exact scope of this investigation, we quickly generate some data from sklearn"
   ]
  },
  {
   "cell_type": "code",
   "execution_count": 1,
   "metadata": {
    "pycharm": {
     "is_executing": false,
     "name": "#%%\n"
    }
   },
   "outputs": [],
   "source": [
    "from sklearn.datasets import make_regression\n",
    "from sklearn.pipeline import Pipeline\n",
    "from sklearn.preprocessing import StandardScaler\n",
    "from sklearn.model_selection import train_test_split\n",
    "\n",
    "\n",
    "# generate a large amount of data, unscaled - 20% noise in order to challenge the model\n",
    "X, y = make_regression(n_samples=1000,\n",
    "                       n_features=20,\n",
    "                       noise=.1,\n",
    "                       random_state=1)\n",
    "\n",
    "# this data is of course unscaled --> preprocess the data\n",
    "# usually this would include imputation, EDA, encoding - out of scope here\n",
    "pipe_x = Pipeline(steps=[('scaling', StandardScaler())])\n",
    "pipe_y = Pipeline(steps=[('scaling', StandardScaler())])\n",
    "\n",
    "X_processed = pipe_x.fit_transform(X)\n",
    "y_processed = pipe_y.fit_transform(y.reshape(-1, 1))\n",
    "\n",
    "train_X, test_X, train_y, test_y = train_test_split(X_processed, y_processed, \n",
    "                                                    random_state=1,\n",
    "                                                    test_size=.1)"
   ]
  },
  {
   "cell_type": "markdown",
   "metadata": {
    "pycharm": {
     "name": "#%% md\n"
    }
   },
   "source": [
    "### model generation\n",
    "\n",
    "we quickly generate a sequential NN - as a simple demonstration for graphing the loss"
   ]
  },
  {
   "cell_type": "code",
   "execution_count": 2,
   "metadata": {
    "pycharm": {
     "is_executing": false,
     "name": "#%%\n"
    }
   },
   "outputs": [
    {
     "name": "stderr",
     "output_type": "stream",
     "text": [
      "Using TensorFlow backend.\n"
     ]
    }
   ],
   "source": [
    "from keras.models import Sequential\n",
    "from keras.layers import Dense\n",
    "from keras.optimizers import SGD\n",
    "from keras.initializers import he_uniform\n",
    "\n",
    "\n",
    "# simple sequential model, dense layer, relu activation\n",
    "sequential_model = Sequential()\n",
    "\n",
    "bias_initializer = he_uniform(seed=42)\n",
    "sequential_model.add(Dense(25, \n",
    "                           input_dim=20, \n",
    "                           activation='relu',\n",
    "                           kernel_initializer=bias_initializer))\n",
    "sequential_model.add(Dense(1, \n",
    "                           activation='linear'))\n",
    "\n",
    "# using a simple gradient descent optimizer\n",
    "opt = SGD(lr=0.01, \n",
    "          momentum=0.9)\n",
    "\n",
    "sequential_model.compile(loss='mean_squared_error', \n",
    "                         optimizer=opt)"
   ]
  },
  {
   "cell_type": "markdown",
   "metadata": {
    "pycharm": {
     "name": "#%% md\n"
    }
   },
   "source": [
    "now that we initialized the model, we train it with history and graph the (MSE) loss\n",
    "\n",
    "\n",
    "### Graphing Regression Loss - Mean Squared/Absolute Error"
   ]
  },
  {
   "cell_type": "code",
   "execution_count": 3,
   "metadata": {
    "pycharm": {
     "is_executing": false,
     "name": "#%%\n"
    }
   },
   "outputs": [
    {
     "name": "stdout",
     "output_type": "stream",
     "text": [
      "Train MSE: 0.0001, Test MSE: 0.0001 \n",
      "\n"
     ]
    },
    {
     "data": {
      "image/png": "[encoded data removed]",
      "text/plain": [
       "<Figure size 432x288 with 1 Axes>"
      ]
     },
     "metadata": {
      "needs_background": "light"
     },
     "output_type": "display_data"
    }
   ],
   "source": [
    "import matplotlib.pyplot as plt\n",
    "\n",
    "\n",
    "# train the model on our test data in 100 epochs\n",
    "loss_history = sequential_model.fit(train_X, train_y, \n",
    "                                    validation_data=(test_X, test_y), \n",
    "                                    epochs=100, \n",
    "                                    verbose=0)\n",
    "\n",
    "# get the final train and test MSE of the model\n",
    "train_mse = sequential_model.evaluate(train_X, train_y, \n",
    "                                      verbose=0)\n",
    "\n",
    "test_mse = sequential_model.evaluate(test_X, test_y, \n",
    "                                     verbose=0)\n",
    "\n",
    "print(f'Train MSE: {round(train_mse, 4)}, Test MSE: {round(test_mse, 4)} \\n')\n",
    "\n",
    "# plot loss over the training epochs\n",
    "plt.title('Loss / Mean Squared Error')\n",
    "plt.plot(loss_history.history['loss'], label='train')\n",
    "plt.plot(loss_history.history['val_loss'], label='test')\n",
    "plt.legend()\n",
    "plt.show()\n"
   ]
  },
  {
   "cell_type": "markdown",
   "metadata": {
    "pycharm": {
     "name": "#%% md\n"
    }
   },
   "source": [
    "MSE converges rather quickly and smoothly here (i.e. it is well suited to this problem)"
   ]
  },
  {
   "cell_type": "code",
   "execution_count": 4,
   "metadata": {
    "pycharm": {
     "is_executing": false,
     "name": "#%% md trying a second model, with mean absolute error\n"
    }
   },
   "outputs": [
    {
     "name": "stdout",
     "output_type": "stream",
     "text": [
      "sequential network mean absolute error loss - Train MSE: 0.02642307692103916, Test MSE: 0.02758283793926239\n"
     ]
    },
    {
     "data": {
      "image/png": "[encoded data removed]",
      "text/plain": [
       "<Figure size 432x288 with 1 Axes>"
      ]
     },
     "metadata": {
      "needs_background": "light"
     },
     "output_type": "display_data"
    }
   ],
   "source": [
    "mae = Sequential()\n",
    "mae.add(Dense(25,\n",
    "                           input_dim=20,\n",
    "                           activation='relu',\n",
    "                           kernel_initializer=bias_initializer))\n",
    "mae.add(Dense(1,\n",
    "                           activation='linear'))\n",
    "mae.compile(loss='mean_absolute_error',\n",
    "            optimizer=opt)\n",
    "\n",
    "mae_loss_history = mae.fit(train_X, train_y,\n",
    "                           validation_data=(test_X, test_y),\n",
    "                           epochs=100,\n",
    "                           verbose=0)\n",
    "mae_train_mse = mae.evaluate(train_X, train_y,\n",
    "                             verbose=0)\n",
    "mae_test_mse = mae.evaluate(test_X, test_y, \n",
    "                            verbose=0)\n",
    "\n",
    "print(f'sequential network mean absolute error loss - Train MSE: {mae_train_mse}, Test MSE: {mae_test_mse}')\n",
    "\n",
    "# plot loss over training \n",
    "plt.title('Loss (CE) / MSE')\n",
    "plt.plot(mae_loss_history.history['loss'], label='train')\n",
    "plt.plot(mae_loss_history.history['val_loss'], label='test')\n",
    "plt.legend()\n",
    "plt.show()"
   ]
  },
  {
   "cell_type": "markdown",
   "metadata": {
    "pycharm": {
     "is_executing": false,
     "name": "#%% md\n"
    }
   },
   "source": [
    "as we can see, the network does not converge as far in 100 epochs, which is probably due to the fact \n",
    "that mean absolute error loss does not punish outliers as strongly as MSE - and we are using scaled data \n",
    "from an automatically generated normal distribution (i.e. no outliers).\n",
    "\n",
    "MAE might be more useful to a problem where we are working with unscaled data, containing outliers, which we do not\n",
    "want to suppress using a robust scaler. "
   ]
  },
  {
   "cell_type": "markdown",
   "metadata": {
    "pycharm": {
     "name": "#%% md\n"
    }
   },
   "source": [
    "### Graphing Loss functions for Classification - Binary Cross Entropy\n",
    "\n",
    "\n",
    "for this demonstration, we use the wisconsin breast cancer set from sklearn to provide a more applicable example.\n",
    "Loading and processing the data:"
   ]
  },
  {
   "cell_type": "code",
   "execution_count": 5,
   "metadata": {
    "pycharm": {
     "is_executing": false,
     "name": "#%%\n"
    }
   },
   "outputs": [],
   "source": [
    "from sklearn.datasets import load_breast_cancer\n",
    "from keras import backend as K\n",
    "\n",
    "\n",
    "# unfortunately, recall was removed as a metric from keras so we had to write our own\n",
    "def recall_m(y_true, y_pred):\n",
    "    true_positives = K.sum(K.round(K.clip(y_true * y_pred, 0, 1)))\n",
    "    possible_positives = K.sum(K.round(K.clip(y_true, 0, 1)))\n",
    "    recall = true_positives / (possible_positives + K.epsilon())\n",
    "    return recall\n",
    "\n",
    "bc_X, bc_y = load_breast_cancer(return_X_y=True)\n",
    "\n",
    "bc_train_X, bc_test_X, bc_train_y, bc_test_y = train_test_split(bc_X, bc_y,\n",
    "                                                                random_state=1,\n",
    "                                                                test_size=.2)\n",
    "\n",
    "pipe_bc_x = Pipeline(steps=[('scale', StandardScaler())])\n",
    "bc_train_X_processed = pipe_bc_x.fit_transform(bc_train_X)\n"
   ]
  },
  {
   "cell_type": "markdown",
   "metadata": {
    "pycharm": {
     "is_executing": false,
     "name": "#%% md\n"
    }
   },
   "source": [
    "then we create a basic NN"
   ]
  },
  {
   "cell_type": "code",
   "execution_count": 6,
   "metadata": {
    "pycharm": {
     "is_executing": false,
     "name": "#%%\n"
    }
   },
   "outputs": [],
   "source": [
    "bias_initializer_bc = he_uniform(seed=1)\n",
    "\n",
    "bc_nn = Sequential()\n",
    "bc_nn.add(Dense(50,\n",
    "                input_dim=30,\n",
    "                activation='relu',\n",
    "                kernel_initializer=bias_initializer_bc))\n",
    "# since the output in this case is a binary classificaiton, we use a sigmoid activation function for the output layer\n",
    "bc_nn.add(Dense(1,\n",
    "                activation='sigmoid'))\n",
    "bc_optimizer = SGD(lr=0.01,\n",
    "                   momentum=0.9)\n",
    "\n",
    "# since the cost of false negative is significantly higher here\n",
    "# we use recall as an additional (arguably more important) metric\n",
    "bc_nn.compile(optimizer=bc_optimizer, \n",
    "              loss='binary_crossentropy', \n",
    "              metrics=['accuracy', recall_m])"
   ]
  },
  {
   "cell_type": "markdown",
   "metadata": {
    "pycharm": {
     "name": "#%% md\n"
    }
   },
   "source": [
    "we fit our network on the training data and graph the loss over the epochs"
   ]
  },
  {
   "cell_type": "code",
   "execution_count": 7,
   "metadata": {
    "pycharm": {
     "is_executing": false,
     "name": "#%%\n"
    }
   },
   "outputs": [
    {
     "name": "stdout",
     "output_type": "stream",
     "text": [
      "Train recall: 1.0, Test recall: 1.0\n",
      "Train accuracy: 0.6263736486434937, Test accuracy: 0.6315789222717285\n"
     ]
    },
    {
     "data": {
      "image/png": "[encoded data removed]",
      "text/plain": [
       "<Figure size 432x288 with 2 Axes>"
      ]
     },
     "metadata": {
      "needs_background": "light"
     },
     "output_type": "display_data"
    }
   ],
   "source": [
    "history = bc_nn.fit(bc_train_X, bc_train_y,\n",
    "                    validation_data=(bc_test_X, bc_test_y),\n",
    "                    epochs=500, \n",
    "                    verbose=0)\n",
    "\n",
    "# get the metrics for the NN\n",
    "# the first variable returned is the scalar loss (see here: https://keras.io/models/model/#evaluate)\n",
    "# which we are not interested in here\n",
    "_, train_acc, train_recall = bc_nn.evaluate(bc_train_X, bc_train_y, \n",
    "                                            verbose=0)\n",
    "\n",
    "_, test_acc, test_recall = bc_nn.evaluate(bc_test_X, bc_test_y, \n",
    "                                          verbose=0)\n",
    "\n",
    "print(f'Train recall: {train_recall}, Test recall: {test_recall}')\n",
    "print(f'Train accuracy: {train_acc}, Test accuracy: {test_acc}')\n",
    "# plot loss during training\n",
    "plt.subplot(211)\n",
    "plt.title('Loss')\n",
    "plt.plot(history.history['loss'], label='train')\n",
    "plt.plot(history.history['val_loss'], label='test')\n",
    "plt.legend()\n",
    "# plot accuracy during training\n",
    "plt.subplot(212)\n",
    "plt.title('Recall')\n",
    "plt.plot(history.history['recall_m'], label='train')\n",
    "plt.plot(history.history['val_recall_m'], label='test')\n",
    "plt.legend()\n",
    "plt.show()"
   ]
  },
  {
   "cell_type": "markdown",
   "metadata": {
    "pycharm": {
     "is_executing": false,
     "name": "#%% md\n"
    }
   },
   "source": [
    "Binary cross entropy does not quite seem suited to this problem - probably due to the small size of the dataset, \n",
    "or the fact that it is fairly unbalanced.\n",
    "\n",
    "We will try the same Problem using hinge loss, this may perform better \n",
    "due to the fact that hinge loss punishes errors more strongly, which are further away from the correct label\n",
    "\n",
    "### Graphing Hinge Loss\n",
    "\n",
    "first some (almost identical) data preparation"
   ]
  },
  {
   "cell_type": "code",
   "execution_count": 8,
   "metadata": {
    "pycharm": {
     "is_executing": false,
     "name": "#%%\n"
    }
   },
   "outputs": [],
   "source": [
    "from numpy import where\n",
    "\n",
    "\n",
    "bc_X, bc_y = load_breast_cancer(return_X_y=True)\n",
    "# hinge loss expects values between -1/1 instead of 0/1\n",
    "bc_y[where(bc_y)==0] = -1\n",
    "\n",
    "bc_train_X, bc_test_X, bc_train_y, bc_test_y = train_test_split(bc_X, bc_y,\n",
    "                                                                random_state=1,\n",
    "                                                                test_size=.2)\n",
    "\n",
    "\n",
    "pipe_bc_x = Pipeline(steps=[('scale', StandardScaler())])\n",
    "bc_train_X_processed = pipe_bc_x.fit_transform(bc_train_X)"
   ]
  },
  {
   "cell_type": "markdown",
   "metadata": {
    "pycharm": {
     "name": "#%% md\n"
    }
   },
   "source": [
    "then we compile the model\n",
    "--> we use a hyperbolic tangent activation function, since it ranges form -1/1\n",
    "(we could also use a sigmoid function and then scale from -1/1 but apparently this is best practice)\n",
    "\n",
    "\n",
    "as before, our key metric is recall (since the underlying usecase has not changed)"
   ]
  },
  {
   "cell_type": "code",
   "execution_count": 9,
   "metadata": {
    "pycharm": {
     "is_executing": false,
     "name": "#%%\n"
    }
   },
   "outputs": [],
   "source": [
    "bc_nn_hinge = Sequential()\n",
    "bc_nn_hinge.add(Dense(50,\n",
    "                      input_dim=30,\n",
    "                      activation='relu',\n",
    "                      kernel_initializer=bias_initializer_bc))\n",
    "# since the output in this case is a binary classificaiton, we use a sigmoid activation function for the output layer\n",
    "bc_nn_hinge.add(Dense(1,\n",
    "                      activation='tanh'))\n",
    "bc_optimizer = SGD(lr=0.01,\n",
    "                   momentum=0.9)\n",
    "\n",
    "# since the cost of false negative is significantly higher here\n",
    "# we use recall as an additional (arguably more important) metric\n",
    "bc_nn_hinge.compile(optimizer=bc_optimizer, \n",
    "                    loss='hinge',\n",
    "                    metrics=['accuracy', recall_m])"
   ]
  },
  {
   "cell_type": "markdown",
   "metadata": {
    "pycharm": {
     "name": "#%% md\n"
    }
   },
   "source": [
    "finally, we train our model and graph loss / recall"
   ]
  },
  {
   "cell_type": "code",
   "execution_count": 10,
   "metadata": {
    "pycharm": {
     "is_executing": false,
     "name": "#%%\n"
    }
   },
   "outputs": [
    {
     "name": "stdout",
     "output_type": "stream",
     "text": [
      "Train recall: 1.0, Test recall: 1.0\n",
      "Train accuracy: 0.6263736486434937, Test accuracy: 0.6315789222717285\n"
     ]
    },
    {
     "data": {
      "image/png": "[encoded data removed]",
      "text/plain": [
       "<Figure size 432x288 with 2 Axes>"
      ]
     },
     "metadata": {
      "needs_background": "light"
     },
     "output_type": "display_data"
    }
   ],
   "source": [
    "history_hinge = bc_nn_hinge.fit(bc_train_X, bc_train_y,\n",
    "                                validation_data=(bc_test_X, bc_test_y),\n",
    "                                epochs=500, \n",
    "                                verbose=0)\n",
    "\n",
    "_, train_acc_hinge, train_recall_hinge = bc_nn_hinge.evaluate(bc_train_X, bc_train_y, \n",
    "                                                              verbose=0)\n",
    "\n",
    "_, test_acc_hinge, test_recall_hinge = bc_nn_hinge.evaluate(bc_test_X, bc_test_y, \n",
    "                                                            verbose=0)\n",
    "\n",
    "print(f'Train recall: {train_recall_hinge}, Test recall: {test_recall_hinge}')\n",
    "print(f'Train accuracy: {train_acc_hinge}, Test accuracy: {test_acc_hinge}')\n",
    "# plot loss during training\n",
    "plt.subplot(211)\n",
    "plt.title('Loss')\n",
    "plt.plot(history_hinge.history['loss'], label='train')\n",
    "plt.plot(history_hinge.history['val_loss'], label='test')\n",
    "plt.legend()\n",
    "# plot accuracy during training\n",
    "plt.subplot(212)\n",
    "plt.title('Recall')\n",
    "plt.plot(history_hinge.history['recall_m'], label='train')\n",
    "plt.plot(history_hinge.history['val_recall_m'], label='test')\n",
    "plt.legend()\n",
    "plt.show()\n"
   ]
  },
  {
   "cell_type": "markdown",
   "metadata": {
    "pycharm": {
     "name": "#%% md\n"
    }
   },
   "source": [
    "it would seem that hinge loss is much more suitable to the problem here.\n"
   ]
  }
 ],
 "metadata": {
  "kernelspec": {
   "display_name": "Python 3",
   "language": "python",
   "name": "python3"
  },
  "language_info": {
   "codemirror_mode": {
    "name": "ipython",
    "version": 3
   },
   "file_extension": ".py",
   "mimetype": "text/x-python",
   "name": "python",
   "nbconvert_exporter": "python",
   "pygments_lexer": "ipython3",
   "version": "3.8.2"
  },
  "pycharm": {
   "stem_cell": {
    "cell_type": "raw",
    "metadata": {
     "collapsed": false
    },
    "source": []
   }
  }
 },
 "nbformat": 4,
 "nbformat_minor": 1
}

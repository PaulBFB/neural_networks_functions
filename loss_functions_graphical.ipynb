{
 "cells": [
  {
   "cell_type": "markdown",
   "metadata": {
    "collapsed": true,
    "pycharm": {
     "name": "#%% md\n"
    }
   },
   "source": [
    "# comparing loss functions\n",
    "## a graphical analysis\n",
    "> Sammer, Matthias & Leitner, Paul\n",
    "\n",
    "### Definition, explanation\n",
    "*A loss function is used to optimize the parameter values in a neural network model. \n",
    "Loss functions map a set of parameter values for the network onto a scalar value \n",
    "that indicates how well those parameter accomplish the task the network is intended to do.* \n",
    "\n",
    "Here we will graphically examine a few of the most common loss functions in more detail, \n",
    "in order to gain a more intuitive understanding of the underlying principles in Python\n",
    "\n",
    "### Preparation, packages, data generation\n",
    "\n",
    "since data wrangling is not the exact scope of this investigation, we quickly generate some data from sklearn"
   ]
  },
  {
   "cell_type": "code",
   "execution_count": 6,
   "metadata": {
    "pycharm": {
     "is_executing": false,
     "name": "#%%\n"
    }
   },
   "outputs": [],
   "source": [
    "from sklearn.datasets import make_regression\n",
    "from sklearn.pipeline import Pipeline\n",
    "from sklearn.preprocessing import StandardScaler\n",
    "from sklearn.model_selection import train_test_split\n",
    "\n",
    "\n",
    "# generate a large amount of data, unscaled - 20% noise in order to challenge the model\n",
    "X, y = make_regression(n_samples=1000,\n",
    "                       n_features=20,\n",
    "                       noise=.1,\n",
    "                       random_state=1)\n",
    "\n",
    "# this data is of course unscaled --> preprocess the data\n",
    "# usually this would include imputation, EDA, encoding - out of scope here\n",
    "pipe_x = Pipeline(steps=[('scaling', StandardScaler())])\n",
    "pipe_y = Pipeline(steps=[('scaling', StandardScaler())])\n",
    "\n",
    "X_processed = pipe_x.fit_transform(X)\n",
    "y_processed = pipe_y.fit_transform(y.reshape(-1, 1))\n",
    "\n",
    "train_X, test_X, train_y, test_y = train_test_split(X_processed, y_processed, \n",
    "                                                    random_state=1,\n",
    "                                                    test_size=.1)"
   ]
  },
  {
   "cell_type": "markdown",
   "metadata": {
    "pycharm": {
     "name": "#%% md\n"
    }
   },
   "source": [
    "### model generation\n",
    "\n",
    "we quickly generate a sequential NN - as a simple demonstration for graphing the loss"
   ]
  },
  {
   "cell_type": "code",
   "execution_count": 7,
   "metadata": {
    "pycharm": {
     "is_executing": false,
     "name": "#%%\n"
    }
   },
   "outputs": [
    {
     "name": "stderr",
     "text": [
      "Using TensorFlow backend.\n"
     ],
     "output_type": "stream"
    }
   ],
   "source": [
    "from keras.models import Sequential\n",
    "from keras.layers import Dense\n",
    "from keras.optimizers import SGD\n",
    "from keras.initializers import he_uniform\n",
    "\n",
    "\n",
    "# simple sequential model, dense layer, relu activation\n",
    "sequential_model = Sequential()\n",
    "\n",
    "bias_initializer = he_uniform(seed=42)\n",
    "sequential_model.add(Dense(25, \n",
    "                           input_dim=20, \n",
    "                           activation='relu',\n",
    "                           kernel_initializer=bias_initializer))\n",
    "sequential_model.add(Dense(1, \n",
    "                           activation='linear'))\n",
    "\n",
    "# using a simple gradient descent optimizer\n",
    "opt = SGD(lr=0.01, \n",
    "          momentum=0.9)\n",
    "\n",
    "sequential_model.compile(loss='mean_squared_error', \n",
    "                         optimizer=opt)"
   ]
  },
  {
   "cell_type": "markdown",
   "metadata": {
    "pycharm": {
     "name": "#%% md\n"
    }
   },
   "source": [
    "now that we initialized the model, we train it with history and graph the (MSE) loss\n",
    "\n",
    "\n",
    "### Graphing Regression Loss - Mean Squared/Absolute Error"
   ]
  },
  {
   "cell_type": "code",
   "execution_count": 8,
   "metadata": {
    "pycharm": {
     "is_executing": false,
     "name": "#%%\n"
    }
   },
   "outputs": [
    {
     "name": "stdout",
     "text": [
      "Train MSE: 0.0005, Test MSE: 0.0008 \n",
      "\n"
     ],
     "output_type": "stream"
    },
    {
     "data": {
      "text/plain": "<Figure size 432x288 with 1 Axes>",
      "image/png": "[encoded data removed]"
     },
     "metadata": {
      "needs_background": "light"
     },
     "output_type": "display_data"
    }
   ],
   "source": [
    "import matplotlib.pyplot as plt\n",
    "\n",
    "\n",
    "# train the model on our test data in 100 epochs\n",
    "loss_history = sequential_model.fit(train_X, train_y, \n",
    "                                    validation_data=(test_X, test_y), \n",
    "                                    epochs=100, \n",
    "                                    verbose=0)\n",
    "\n",
    "# get the final train and test MSE of the model\n",
    "train_mse = sequential_model.evaluate(train_X, train_y, \n",
    "                                      verbose=0)\n",
    "\n",
    "test_mse = sequential_model.evaluate(test_X, test_y, \n",
    "                                     verbose=0)\n",
    "\n",
    "print(f'Train MSE: {round(train_mse, 4)}, Test MSE: {round(test_mse, 4)} \\n')\n",
    "\n",
    "# plot loss over the training epochs\n",
    "plt.title('Loss / Mean Squared Error')\n",
    "plt.plot(loss_history.history['loss'], label='train')\n",
    "plt.plot(loss_history.history['val_loss'], label='test')\n",
    "plt.legend()\n",
    "plt.show()\n"
   ]
  },
  {
   "cell_type": "markdown",
   "source": [
    "MSE converges rather quickly and smoothly here (i.e. it is well suited to this problem)"
   ],
   "metadata": {
    "collapsed": false,
    "pycharm": {
     "name": "#%% md\n"
    }
   }
  },
  {
   "cell_type": "code",
   "source": [
    "mae = Sequential()\n",
    "mae.add(Dense(25,\n",
    "                           input_dim=20,\n",
    "                           activation='relu',\n",
    "                           kernel_initializer=bias_initializer))\n",
    "mae.add(Dense(1,\n",
    "                           activation='linear'))\n",
    "mae.compile(loss='mean_absolute_error',\n",
    "            optimizer=opt)\n",
    "\n",
    "mae_loss_history = mae.fit(train_X, train_y,\n",
    "                           validation_data=(test_X, test_y),\n",
    "                           epochs=100,\n",
    "                           verbose=0)\n",
    "mae_train_mse = mae.evaluate(train_X, train_y,\n",
    "                             verbose=0)\n",
    "mae_test_mse = mae.evaluate(test_X, test_y, \n",
    "                            verbose=0)\n",
    "\n",
    "print(f'sequential network mean absolute error loss - Train MSE: {mae_train_mse}, Test MSE: {mae_test_mse}')\n",
    "\n",
    "# plot loss over training \n",
    "plt.title('Loss (CE) / MSE')\n",
    "plt.plot(mae_loss_history.history['loss'], label='train')\n",
    "plt.plot(mae_loss_history.history['val_loss'], label='test')\n",
    "plt.legend()\n",
    "plt.show()"
   ],
   "metadata": {
    "collapsed": false,
    "pycharm": {
     "name": "#%% md trying a second model, with mean absolute error\n",
     "is_executing": false
    }
   },
   "execution_count": 9,
   "outputs": [
    {
     "name": "stdout",
     "text": [
      "sequential network mean absolute error loss - Train MSE: 0.03529335545168982, Test MSE: 0.034624455273151396\n"
     ],
     "output_type": "stream"
    },
    {
     "data": {
      "text/plain": "<Figure size 432x288 with 1 Axes>",
      "image/png": "[encoded data removed]"
     },
     "metadata": {
      "needs_background": "light"
     },
     "output_type": "display_data"
    }
   ]
  },
  {
   "cell_type": "markdown",
   "source": [
    "as we can see, the network does not converge as far in 100 epochs, which is probably due to the fact \n",
    "that mean absolute error loss does not punish outliers as strongly as MSE - and we are using scaled data \n",
    "from an automatically generated normal distribution (i.e. no outliers).\n",
    "\n",
    "MAE might be more useful to a problem where we are working with unscaled data, containing outliers, which we do not\n",
    "want to suppress using a robust scaler. "
   ],
   "metadata": {
    "collapsed": false,
    "pycharm": {
     "name": "#%% md\n",
     "is_executing": false
    }
   }
  },
  {
   "cell_type": "markdown",
   "source": [
    "### Graphing Loss functions for Classification - Binary Cross Entropy\n",
    "\n",
    "\n",
    "for this demonstration, we use the wisconsin breast cancer set from sklearn to provide a more applicable example.\n",
    "Loading and processing the data:"
   ],
   "metadata": {
    "collapsed": false,
    "pycharm": {
     "name": "#%% md\n"
    }
   }
  },
  {
   "cell_type": "code",
   "execution_count": 13,
   "outputs": [],
   "source": [
    "from sklearn.datasets import load_breast_cancer\n",
    "\n",
    "\n",
    "bc_X, bc_y = load_breast_cancer(return_X_y=True)\n",
    "\n",
    "bc_train_X, bc_test_X, bc_train_y, bc_test_y = train_test_split(bc_X, bc_y,\n",
    "                                                                random_state=1,\n",
    "                                                                test_size=.2)\n",
    "\n",
    "pipe_bc_x = Pipeline(steps=[('scale', StandardScaler())])\n",
    "bc_train_X_processed = pipe_bc_x.fit_transform(bc_train_X)"
   ],
   "metadata": {
    "collapsed": false,
    "pycharm": {
     "name": "#%%\n",
     "is_executing": false
    }
   }
  },
  {
   "cell_type": "markdown",
   "source": [
    "then we create a basic NN"
   ],
   "metadata": {
    "collapsed": false,
    "pycharm": {
     "name": "#%% md\n",
     "is_executing": false
    }
   }
  },
  {
   "cell_type": "code",
   "execution_count": 14,
   "outputs": [
    {
     "traceback": [
      "\u001b[0;31m---------------------------------------------------------------------------\u001b[0m",
      "\u001b[0;31mValueError\u001b[0m                                Traceback (most recent call last)",
      "\u001b[0;32m<ipython-input-14-2fc372c27868>\u001b[0m in \u001b[0;36m<module>\u001b[0;34m\u001b[0m\n\u001b[1;32m     12\u001b[0m                    momentum=0.9)\n\u001b[1;32m     13\u001b[0m \u001b[0;34m\u001b[0m\u001b[0m\n\u001b[0;32m---> 14\u001b[0;31m \u001b[0mbc_nn\u001b[0m\u001b[0;34m.\u001b[0m\u001b[0mcompile\u001b[0m\u001b[0;34m(\u001b[0m\u001b[0moptimizer\u001b[0m\u001b[0;34m=\u001b[0m\u001b[0mbc_optimizer\u001b[0m\u001b[0;34m,\u001b[0m \u001b[0mloss\u001b[0m\u001b[0;34m=\u001b[0m\u001b[0;34m'binary_crossentropy'\u001b[0m\u001b[0;34m,\u001b[0m \u001b[0mmetrics\u001b[0m\u001b[0;34m=\u001b[0m\u001b[0;34m[\u001b[0m\u001b[0;34m'recall'\u001b[0m\u001b[0;34m]\u001b[0m\u001b[0;34m)\u001b[0m\u001b[0;34m\u001b[0m\u001b[0;34m\u001b[0m\u001b[0m\n\u001b[0m",
      "\u001b[0;32m/usr/lib/python3.8/site-packages/keras/backend/tensorflow_backend.py\u001b[0m in \u001b[0;36msymbolic_fn_wrapper\u001b[0;34m(*args, **kwargs)\u001b[0m\n\u001b[1;32m     73\u001b[0m         \u001b[0;32mif\u001b[0m \u001b[0m_SYMBOLIC_SCOPE\u001b[0m\u001b[0;34m.\u001b[0m\u001b[0mvalue\u001b[0m\u001b[0;34m:\u001b[0m\u001b[0;34m\u001b[0m\u001b[0;34m\u001b[0m\u001b[0m\n\u001b[1;32m     74\u001b[0m             \u001b[0;32mwith\u001b[0m \u001b[0mget_graph\u001b[0m\u001b[0;34m(\u001b[0m\u001b[0;34m)\u001b[0m\u001b[0;34m.\u001b[0m\u001b[0mas_default\u001b[0m\u001b[0;34m(\u001b[0m\u001b[0;34m)\u001b[0m\u001b[0;34m:\u001b[0m\u001b[0;34m\u001b[0m\u001b[0;34m\u001b[0m\u001b[0m\n\u001b[0;32m---> 75\u001b[0;31m                 \u001b[0;32mreturn\u001b[0m \u001b[0mfunc\u001b[0m\u001b[0;34m(\u001b[0m\u001b[0;34m*\u001b[0m\u001b[0margs\u001b[0m\u001b[0;34m,\u001b[0m \u001b[0;34m**\u001b[0m\u001b[0mkwargs\u001b[0m\u001b[0;34m)\u001b[0m\u001b[0;34m\u001b[0m\u001b[0;34m\u001b[0m\u001b[0m\n\u001b[0m\u001b[1;32m     76\u001b[0m         \u001b[0;32melse\u001b[0m\u001b[0;34m:\u001b[0m\u001b[0;34m\u001b[0m\u001b[0;34m\u001b[0m\u001b[0m\n\u001b[1;32m     77\u001b[0m             \u001b[0;32mreturn\u001b[0m \u001b[0mfunc\u001b[0m\u001b[0;34m(\u001b[0m\u001b[0;34m*\u001b[0m\u001b[0margs\u001b[0m\u001b[0;34m,\u001b[0m \u001b[0;34m**\u001b[0m\u001b[0mkwargs\u001b[0m\u001b[0;34m)\u001b[0m\u001b[0;34m\u001b[0m\u001b[0;34m\u001b[0m\u001b[0m\n",
      "\u001b[0;32m/usr/lib/python3.8/site-packages/keras/engine/training.py\u001b[0m in \u001b[0;36mcompile\u001b[0;34m(self, optimizer, loss, metrics, loss_weights, sample_weight_mode, weighted_metrics, target_tensors, **kwargs)\u001b[0m\n\u001b[1;32m    209\u001b[0m \u001b[0;34m\u001b[0m\u001b[0m\n\u001b[1;32m    210\u001b[0m         \u001b[0;31m# Save all metric attributes per output of the model.\u001b[0m\u001b[0;34m\u001b[0m\u001b[0;34m\u001b[0m\u001b[0;34m\u001b[0m\u001b[0m\n\u001b[0;32m--> 211\u001b[0;31m         \u001b[0mself\u001b[0m\u001b[0;34m.\u001b[0m\u001b[0m_cache_output_metric_attributes\u001b[0m\u001b[0;34m(\u001b[0m\u001b[0mmetrics\u001b[0m\u001b[0;34m,\u001b[0m \u001b[0mweighted_metrics\u001b[0m\u001b[0;34m)\u001b[0m\u001b[0;34m\u001b[0m\u001b[0;34m\u001b[0m\u001b[0m\n\u001b[0m\u001b[1;32m    212\u001b[0m \u001b[0;34m\u001b[0m\u001b[0m\n\u001b[1;32m    213\u001b[0m         \u001b[0;31m# Set metric attributes on model.\u001b[0m\u001b[0;34m\u001b[0m\u001b[0;34m\u001b[0m\u001b[0;34m\u001b[0m\u001b[0m\n",
      "\u001b[0;32m/usr/lib/python3.8/site-packages/keras/engine/training.py\u001b[0m in \u001b[0;36m_cache_output_metric_attributes\u001b[0;34m(self, metrics, weighted_metrics)\u001b[0m\n\u001b[1;32m    735\u001b[0m             \u001b[0;32melse\u001b[0m\u001b[0;34m:\u001b[0m\u001b[0;34m\u001b[0m\u001b[0;34m\u001b[0m\u001b[0m\n\u001b[1;32m    736\u001b[0m                 \u001b[0moutput_shapes\u001b[0m\u001b[0;34m.\u001b[0m\u001b[0mappend\u001b[0m\u001b[0;34m(\u001b[0m\u001b[0mlist\u001b[0m\u001b[0;34m(\u001b[0m\u001b[0moutput\u001b[0m\u001b[0;34m.\u001b[0m\u001b[0mshape\u001b[0m\u001b[0;34m)\u001b[0m\u001b[0;34m)\u001b[0m\u001b[0;34m\u001b[0m\u001b[0;34m\u001b[0m\u001b[0m\n\u001b[0;32m--> 737\u001b[0;31m         self._per_output_metrics = training_utils.collect_per_output_metric_info(\n\u001b[0m\u001b[1;32m    738\u001b[0m             metrics, self.output_names, output_shapes, self.loss_functions)\n\u001b[1;32m    739\u001b[0m         self._per_output_weighted_metrics = (\n",
      "\u001b[0;32m/usr/lib/python3.8/site-packages/keras/engine/training_utils.py\u001b[0m in \u001b[0;36mcollect_per_output_metric_info\u001b[0;34m(metrics, output_names, output_shapes, loss_fns, is_weighted)\u001b[0m\n\u001b[1;32m    940\u001b[0m         \u001b[0;32mfor\u001b[0m \u001b[0mmetric\u001b[0m \u001b[0;32min\u001b[0m \u001b[0mmetrics\u001b[0m\u001b[0;34m:\u001b[0m\u001b[0;34m\u001b[0m\u001b[0;34m\u001b[0m\u001b[0m\n\u001b[1;32m    941\u001b[0m             \u001b[0mmetric_name\u001b[0m \u001b[0;34m=\u001b[0m \u001b[0mget_metric_name\u001b[0m\u001b[0;34m(\u001b[0m\u001b[0mmetric\u001b[0m\u001b[0;34m,\u001b[0m \u001b[0mis_weighted\u001b[0m\u001b[0;34m)\u001b[0m\u001b[0;34m\u001b[0m\u001b[0;34m\u001b[0m\u001b[0m\n\u001b[0;32m--> 942\u001b[0;31m             metric_fn = get_metric_function(\n\u001b[0m\u001b[1;32m    943\u001b[0m                 metric, output_shape=output_shapes[i], loss_fn=loss_fns[i])\n\u001b[1;32m    944\u001b[0m \u001b[0;34m\u001b[0m\u001b[0m\n",
      "\u001b[0;32m/usr/lib/python3.8/site-packages/keras/engine/training_utils.py\u001b[0m in \u001b[0;36mget_metric_function\u001b[0;34m(metric, output_shape, loss_fn)\u001b[0m\n\u001b[1;32m    984\u001b[0m     \"\"\"\n\u001b[1;32m    985\u001b[0m     \u001b[0;32mif\u001b[0m \u001b[0mmetric\u001b[0m \u001b[0;32mnot\u001b[0m \u001b[0;32min\u001b[0m \u001b[0;34m[\u001b[0m\u001b[0;34m'accuracy'\u001b[0m\u001b[0;34m,\u001b[0m \u001b[0;34m'acc'\u001b[0m\u001b[0;34m,\u001b[0m \u001b[0;34m'crossentropy'\u001b[0m\u001b[0;34m,\u001b[0m \u001b[0;34m'ce'\u001b[0m\u001b[0;34m]\u001b[0m\u001b[0;34m:\u001b[0m\u001b[0;34m\u001b[0m\u001b[0;34m\u001b[0m\u001b[0m\n\u001b[0;32m--> 986\u001b[0;31m         \u001b[0;32mreturn\u001b[0m \u001b[0mmetrics_module\u001b[0m\u001b[0;34m.\u001b[0m\u001b[0mget\u001b[0m\u001b[0;34m(\u001b[0m\u001b[0mmetric\u001b[0m\u001b[0;34m)\u001b[0m\u001b[0;34m\u001b[0m\u001b[0;34m\u001b[0m\u001b[0m\n\u001b[0m\u001b[1;32m    987\u001b[0m \u001b[0;34m\u001b[0m\u001b[0m\n\u001b[1;32m    988\u001b[0m     is_sparse_categorical_crossentropy = (\n",
      "\u001b[0;32m/usr/lib/python3.8/site-packages/keras/metrics.py\u001b[0m in \u001b[0;36mget\u001b[0;34m(identifier)\u001b[0m\n\u001b[1;32m   1976\u001b[0m         \u001b[0;32mreturn\u001b[0m \u001b[0mdeserialize\u001b[0m\u001b[0;34m(\u001b[0m\u001b[0mconfig\u001b[0m\u001b[0;34m)\u001b[0m\u001b[0;34m\u001b[0m\u001b[0;34m\u001b[0m\u001b[0m\n\u001b[1;32m   1977\u001b[0m     \u001b[0;32melif\u001b[0m \u001b[0misinstance\u001b[0m\u001b[0;34m(\u001b[0m\u001b[0midentifier\u001b[0m\u001b[0;34m,\u001b[0m \u001b[0msix\u001b[0m\u001b[0;34m.\u001b[0m\u001b[0mstring_types\u001b[0m\u001b[0;34m)\u001b[0m\u001b[0;34m:\u001b[0m\u001b[0;34m\u001b[0m\u001b[0;34m\u001b[0m\u001b[0m\n\u001b[0;32m-> 1978\u001b[0;31m         \u001b[0;32mreturn\u001b[0m \u001b[0mdeserialize\u001b[0m\u001b[0;34m(\u001b[0m\u001b[0mstr\u001b[0m\u001b[0;34m(\u001b[0m\u001b[0midentifier\u001b[0m\u001b[0;34m)\u001b[0m\u001b[0;34m)\u001b[0m\u001b[0;34m\u001b[0m\u001b[0;34m\u001b[0m\u001b[0m\n\u001b[0m\u001b[1;32m   1979\u001b[0m     \u001b[0;32melif\u001b[0m \u001b[0mcallable\u001b[0m\u001b[0;34m(\u001b[0m\u001b[0midentifier\u001b[0m\u001b[0;34m)\u001b[0m\u001b[0;34m:\u001b[0m\u001b[0;34m\u001b[0m\u001b[0;34m\u001b[0m\u001b[0m\n\u001b[1;32m   1980\u001b[0m         \u001b[0;32mreturn\u001b[0m \u001b[0midentifier\u001b[0m\u001b[0;34m\u001b[0m\u001b[0;34m\u001b[0m\u001b[0m\n",
      "\u001b[0;32m/usr/lib/python3.8/site-packages/keras/metrics.py\u001b[0m in \u001b[0;36mdeserialize\u001b[0;34m(config, custom_objects)\u001b[0m\n\u001b[1;32m   1965\u001b[0m \u001b[0;34m\u001b[0m\u001b[0m\n\u001b[1;32m   1966\u001b[0m \u001b[0;32mdef\u001b[0m \u001b[0mdeserialize\u001b[0m\u001b[0;34m(\u001b[0m\u001b[0mconfig\u001b[0m\u001b[0;34m,\u001b[0m \u001b[0mcustom_objects\u001b[0m\u001b[0;34m=\u001b[0m\u001b[0;32mNone\u001b[0m\u001b[0;34m)\u001b[0m\u001b[0;34m:\u001b[0m\u001b[0;34m\u001b[0m\u001b[0;34m\u001b[0m\u001b[0m\n\u001b[0;32m-> 1967\u001b[0;31m     return deserialize_keras_object(config,\n\u001b[0m\u001b[1;32m   1968\u001b[0m                                     \u001b[0mmodule_objects\u001b[0m\u001b[0;34m=\u001b[0m\u001b[0mglobals\u001b[0m\u001b[0;34m(\u001b[0m\u001b[0;34m)\u001b[0m\u001b[0;34m,\u001b[0m\u001b[0;34m\u001b[0m\u001b[0;34m\u001b[0m\u001b[0m\n\u001b[1;32m   1969\u001b[0m                                     \u001b[0mcustom_objects\u001b[0m\u001b[0;34m=\u001b[0m\u001b[0mcustom_objects\u001b[0m\u001b[0;34m,\u001b[0m\u001b[0;34m\u001b[0m\u001b[0;34m\u001b[0m\u001b[0m\n",
      "\u001b[0;32m/usr/lib/python3.8/site-packages/keras/utils/generic_utils.py\u001b[0m in \u001b[0;36mdeserialize_keras_object\u001b[0;34m(identifier, module_objects, custom_objects, printable_module_name)\u001b[0m\n\u001b[1;32m    164\u001b[0m             \u001b[0mfn\u001b[0m \u001b[0;34m=\u001b[0m \u001b[0mmodule_objects\u001b[0m\u001b[0;34m.\u001b[0m\u001b[0mget\u001b[0m\u001b[0;34m(\u001b[0m\u001b[0mfunction_name\u001b[0m\u001b[0;34m)\u001b[0m\u001b[0;34m\u001b[0m\u001b[0;34m\u001b[0m\u001b[0m\n\u001b[1;32m    165\u001b[0m             \u001b[0;32mif\u001b[0m \u001b[0mfn\u001b[0m \u001b[0;32mis\u001b[0m \u001b[0;32mNone\u001b[0m\u001b[0;34m:\u001b[0m\u001b[0;34m\u001b[0m\u001b[0;34m\u001b[0m\u001b[0m\n\u001b[0;32m--> 166\u001b[0;31m                 raise ValueError('Unknown ' + printable_module_name +\n\u001b[0m\u001b[1;32m    167\u001b[0m                                  ':' + function_name)\n\u001b[1;32m    168\u001b[0m         \u001b[0;32mreturn\u001b[0m \u001b[0mfn\u001b[0m\u001b[0;34m\u001b[0m\u001b[0;34m\u001b[0m\u001b[0m\n",
      "\u001b[0;31mValueError\u001b[0m: Unknown metric function:recall"
     ],
     "ename": "ValueError",
     "evalue": "Unknown metric function:recall",
     "output_type": "error"
    }
   ],
   "source": [
    "bias_initializer_bc = he_uniform(seed=1)\n",
    "\n",
    "bc_nn = Sequential()\n",
    "bc_nn.add(Dense(50,\n",
    "                input_dim=30,\n",
    "                activation='relu',\n",
    "                kernel_initializer=bias_initializer_bc))\n",
    "# since the output in this case is a binary classificaiton, we use a sigmoid activation function for the output layer\n",
    "bc_nn.add(Dense(1,\n",
    "                activation='sigmoid'))\n",
    "bc_optimizer = SGD(lr=0.01,\n",
    "                   momentum=0.9)\n",
    "\n",
    "bc_nn.compile(optimizer=bc_optimizer, loss='binary_crossentropy', metrics=['recall'])"
   ],
   "metadata": {
    "collapsed": false,
    "pycharm": {
     "name": "#%%\n",
     "is_executing": false
    }
   }
  }
 ],
 "metadata": {
  "kernelspec": {
   "display_name": "Python 3",
   "language": "python",
   "name": "python3"
  },
  "language_info": {
   "codemirror_mode": {
    "name": "ipython",
    "version": 3
   },
   "file_extension": ".py",
   "mimetype": "text/x-python",
   "name": "python",
   "nbconvert_exporter": "python",
   "pygments_lexer": "ipython3",
   "version": "3.8.2"
  },
  "pycharm": {
   "stem_cell": {
    "cell_type": "raw",
    "source": [],
    "metadata": {
     "collapsed": false
    }
   }
  }
 },
 "nbformat": 4,
 "nbformat_minor": 1
}